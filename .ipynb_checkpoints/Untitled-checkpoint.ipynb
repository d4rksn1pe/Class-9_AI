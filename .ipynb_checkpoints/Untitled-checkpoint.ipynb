{
 "cells": [
  {
   "cell_type": "code",
   "execution_count": null,
   "id": "ec851efe-6e6e-41d1-bd45-73095abcbd43",
   "metadata": {},
   "outputs": [],
   "source": [
    "# A Rock Paper Scissor Game "
   ]
  },
  {
   "cell_type": "code",
   "execution_count": null,
   "id": "ac1288fc-4d7f-49ab-a1e6-f263ca85c3d7",
   "metadata": {},
   "outputs": [],
   "source": [
    "import random\n",
    "choices = [\"Rock\", \"]"
   ]
  }
 ],
 "metadata": {
  "kernelspec": {
   "display_name": "Python 3 (ipykernel)",
   "language": "python",
   "name": "python3"
  },
  "language_info": {
   "codemirror_mode": {
    "name": "ipython",
    "version": 3
   },
   "file_extension": ".py",
   "mimetype": "text/x-python",
   "name": "python",
   "nbconvert_exporter": "python",
   "pygments_lexer": "ipython3",
   "version": "3.10.5"
  }
 },
 "nbformat": 4,
 "nbformat_minor": 5
}
