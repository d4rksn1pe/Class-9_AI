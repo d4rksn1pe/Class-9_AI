{
 "cells": [
  {
   "cell_type": "code",
   "execution_count": null,
   "id": "875ae000-9ce7-41bd-8845-621d852b4330",
   "metadata": {},
   "outputs": [
    {
     "name": "stdout",
     "output_type": "stream",
     "text": [
      "Calculator Project\n",
      "Enter 'a' for addition\n",
      "Enter 's' for subtraction\n",
      "Enter 'm' for multiplication\n",
      "Enter 'v' for average\n",
      "Enter 'q' for quit\n"
     ]
    },
    {
     "name": "stdin",
     "output_type": "stream",
     "text": [
      " q\n"
     ]
    },
    {
     "name": "stdout",
     "output_type": "stream",
     "text": [
      "Calculator Project\n",
      "Enter 'a' for addition\n",
      "Enter 's' for subtraction\n",
      "Enter 'm' for multiplication\n",
      "Enter 'v' for average\n",
      "Enter 'q' for quit\n"
     ]
    },
    {
     "name": "stdin",
     "output_type": "stream",
     "text": [
      " q\n"
     ]
    },
    {
     "name": "stdout",
     "output_type": "stream",
     "text": [
      "Calculator Project\n",
      "Enter 'a' for addition\n",
      "Enter 's' for subtraction\n",
      "Enter 'm' for multiplication\n",
      "Enter 'v' for average\n",
      "Enter 'q' for quit\n"
     ]
    },
    {
     "name": "stdin",
     "output_type": "stream",
     "text": [
      " a\n"
     ]
    },
    {
     "name": "stdout",
     "output_type": "stream",
     "text": [
      "Addition\n"
     ]
    },
    {
     "name": "stdin",
     "output_type": "stream",
     "text": [
      "Enter the number:  5\n",
      "Enter another number: (0 to calculate):  0\n"
     ]
    },
    {
     "name": "stdout",
     "output_type": "stream",
     "text": [
      "Ans = 5.0 total inputs 1\n",
      "Calculator Project\n",
      "Enter 'a' for addition\n",
      "Enter 's' for subtraction\n",
      "Enter 'm' for multiplication\n",
      "Enter 'v' for average\n",
      "Enter 'q' for quit\n"
     ]
    }
   ],
   "source": [
    "def addition():\n",
    "  print('Addition')\n",
    "  n = float(input('Enter the number: '))\n",
    "  t = 0\n",
    "  ans = 0\n",
    "  while n!= 0:\n",
    "    ans = ans + n\n",
    "    t+= 1\n",
    "    n = float(input('Enter another number: (0 to calculate): '))\n",
    "  return [ans,t]\n",
    "def subtraction ():\n",
    "  print('Subtraction');\n",
    "  n = float(input('Enter the number: '))\n",
    "  t = 0\n",
    "  ans = 0\n",
    "  while n!= 0:\n",
    "    ans = ans - n\n",
    "    t+= 1\n",
    "    n = float(input('Enter another number: (0 to calculate): '))\n",
    "  return [ans,t]\n",
    "def multiplication ():\n",
    "  print(\"Multiplication:\")\n",
    "  n = float(input(\"Enter the number:\"))\n",
    "  t = 0\n",
    "  ans = 1\n",
    "  while n!= 0:\n",
    "    ans = ans*n\n",
    "    t += 1\n",
    "    n = float(input('Enter another number (0 to calculate):'))\n",
    "  return [ans,t]\n",
    "def average ():\n",
    "  an = []\n",
    "  an = addition()\n",
    "  t = an [1]\n",
    "  a = an [0]\n",
    "  ans = a/t\n",
    "  return [ans,t]\n",
    "\n",
    "while True:\n",
    "  list = []\n",
    "  print ('Calculator Project')\n",
    "  print (\"Enter 'a' for addition\")\n",
    "  print (\"Enter 's' for subtraction\")\n",
    "  print (\"Enter 'm' for multiplication\")\n",
    "  print (\"Enter 'v' for average\")\n",
    "  print (\"Enter 'q' for quit\")\n",
    "  c = input(\"\")\n",
    "  if c != 'q':\n",
    "    if c == 'a':\n",
    "        list = addition()\n",
    "        print(\"Ans =\", list [0], \"total inputs\", list [1])\n",
    "    elif c == 's':\n",
    "        list = subtraction()\n",
    "        print(\"Ans =\", list [0], \"total inputs\", list [1])\n",
    "    elif c == 'm':\n",
    "        list = multiplication()\n",
    "        print(\"Ans =\", list [0], \"total inputs\", list [1])\n",
    "    elif c == 'v':\n",
    "        list = average()\n",
    "        print(\"Ans =\", list [0], \"total inputs\", list [1])\n",
    "    else:\n",
    "        print(\"Sorry, invalid character\")\n",
    "        \n",
    "else:\n",
    "    quit()\n"
   ]
  },
  {
   "cell_type": "code",
   "execution_count": null,
   "id": "fac3145f-c5b8-4f00-8b55-24c05e729396",
   "metadata": {},
   "outputs": [],
   "source": []
  },
  {
   "cell_type": "code",
   "execution_count": null,
   "id": "a89a7758-8782-44fa-ada7-612d61c838d4",
   "metadata": {},
   "outputs": [],
   "source": []
  }
 ],
 "metadata": {
  "kernelspec": {
   "display_name": "Python 3 (ipykernel)",
   "language": "python",
   "name": "python3"
  },
  "language_info": {
   "codemirror_mode": {
    "name": "ipython",
    "version": 3
   },
   "file_extension": ".py",
   "mimetype": "text/x-python",
   "name": "python",
   "nbconvert_exporter": "python",
   "pygments_lexer": "ipython3",
   "version": "3.10.7"
  }
 },
 "nbformat": 4,
 "nbformat_minor": 5
}
