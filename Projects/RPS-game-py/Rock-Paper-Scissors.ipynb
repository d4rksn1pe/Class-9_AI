{
 "cells": [
  {
   "cell_type": "code",
   "execution_count": 5,
   "id": "ec851efe-6e6e-41d1-bd45-73095abcbd43",
   "metadata": {},
   "outputs": [],
   "source": [
    "# A Rock Paper Scissor Game "
   ]
  },
  {
   "cell_type": "code",
   "execution_count": 6,
   "id": "ac1288fc-4d7f-49ab-a1e6-f263ca85c3d7",
   "metadata": {},
   "outputs": [
    {
     "name": "stdout",
     "output_type": "stream",
     "text": [
      "This is a game of Rock, Paper and Scissors!\n",
      "Let's see how are you against a computer!\n",
      "Tie!\n",
      "Tie!\n",
      "Tie!\n",
      "Tie!\n",
      "1 point to player Paper covers Rock\n",
      "1 point to player Paper covers Rock\n",
      "1 point to computer Rock smashes Scissors\n",
      "Final Scores:\n",
      "Computer:1\n",
      "Player:2\n"
     ]
    }
   ],
   "source": [
    "import random\n",
    "print(\"This is a game of Rock, Paper and Scissors!\")\n",
    "print(\"Let's see how are you against a computer!\")\n",
    "choices = [\"Rock\", \"Paper\", \"Scissors\"]\n",
    "computer = random.choice(choices)\n",
    "player = False\n",
    "cpu_score = 0\n",
    "player_score = 0\n",
    "while True:\n",
    "  player = input(\"Rock, Paper or Scissors?\").capitalize()\n",
    "  # Conditions\n",
    "  if player == computer:\n",
    "    print (\"Tie!\")\n",
    "  elif player == \"Rock\":\n",
    "    if computer == \"Paper\":\n",
    "      print(\"1 point to computer\", computer, \"covers\", player)\n",
    "      cpu_score+=1\n",
    "    else:\n",
    "      print(\"1 point to player\", player, \"smashes\", computer)\n",
    "      player_score+=1\n",
    "  elif player == \"Paper\":\n",
    "    if computer == \"Scissors\":\n",
    "      print(\"1 point to computer\", computer, \"cuts\", player)\n",
    "      cpu_score+=1\n",
    "    else:\n",
    "      print(\"1 point to player\", player, \"covers\", computer)\n",
    "      player_score+=1\n",
    "  elif player == \"Scissors\":\n",
    "    if computer == \"Rock\":\n",
    "      print (\"1 point to computer\", computer, \"smashes\", player)\n",
    "      cpu_score+=1\n",
    "    else:\n",
    "      print(\"1 point to player\", player, \"cuts\", computer)\n",
    "      player_score+=1\n",
    "  elif player == \"End\":\n",
    "    print(\"Final Scores:\")\n",
    "    print(f\"Computer:{cpu_score}\")\n",
    "    print(f\"Player:{player_score}\")\n",
    "    break\n"
   ]
  }
 ],
 "metadata": {
  "kernelspec": {
   "display_name": "Python 3.10.5 64-bit",
   "language": "python",
   "name": "python3"
  },
  "language_info": {
   "codemirror_mode": {
    "name": "ipython",
    "version": 3
   },
   "file_extension": ".py",
   "mimetype": "text/x-python",
   "name": "python",
   "nbconvert_exporter": "python",
   "pygments_lexer": "ipython3",
   "version": "3.10.5"
  },
  "vscode": {
   "interpreter": {
    "hash": "e7370f93d1d0cde622a1f8e1c04877d8463912d04d973331ad4851f04de6915a"
   }
  }
 },
 "nbformat": 4,
 "nbformat_minor": 5
}
