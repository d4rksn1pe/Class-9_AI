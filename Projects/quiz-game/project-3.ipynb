{
 "cells": [
  {
   "cell_type": "code",
   "execution_count": 3,
   "metadata": {},
   "outputs": [],
   "source": [
    "# A QUIZ GAME WITH PYTHON"
   ]
  },
  {
   "cell_type": "code",
   "execution_count": 4,
   "metadata": {},
   "outputs": [
    {
     "name": "stdout",
     "output_type": "stream",
     "text": [
      "Guess the animal\n",
      "Crrect Answer\n",
      "Crrect Answer\n",
      "Crrect Answer\n",
      "Your Score is3\n"
     ]
    }
   ],
   "source": [
    "def check_guess(guess, answer):\n",
    "  global score\n",
    "  still_guessing = True\n",
    "  attempt = 0\n",
    "  while still_guessing and attempt < 3:\n",
    "    if guess.lower() == answer.lower():\n",
    "      print(\"Crrect Answer\")\n",
    "      score = score + 1\n",
    "      still_guessing = False\n",
    "    else:\n",
    "      if attempt < 2:\n",
    "        guess = input(\"Sorry, you have given the wrong answer. Please try again\")\n",
    "        attempt = attempt + 1\n",
    "    if attempt == 3:\n",
    "      print(\"The Correct Answer is\", answer)\n",
    "\n",
    "score = 0\n",
    "print(\"Guess the animal\")\n",
    "guess1 = input(\"Which bear lives in the North Pole?\")\n",
    "check_guess(guess1, \"Polar Bear\")\n",
    "guess2 = input(\"Which is the fastest land animal?\")\n",
    "check_guess(guess2, \"Cheetah\")\n",
    "guess3 = input(\"Which is the largest animal?\")\n",
    "check_guess(guess3, \"Blue Whale\")\n",
    "print(\"Your Score is \" + str(score))\n"
   ]
  }
 ],
 "metadata": {
  "kernelspec": {
   "display_name": "Python 3.10.7 64-bit",
   "language": "python",
   "name": "python3"
  },
  "language_info": {
   "codemirror_mode": {
    "name": "ipython",
    "version": 3
   },
   "file_extension": ".py",
   "mimetype": "text/x-python",
   "name": "python",
   "nbconvert_exporter": "python",
   "pygments_lexer": "ipython3",
   "version": "3.10.7"
  },
  "orig_nbformat": 4,
  "vscode": {
   "interpreter": {
    "hash": "e7370f93d1d0cde622a1f8e1c04877d8463912d04d973331ad4851f04de6915a"
   }
  }
 },
 "nbformat": 4,
 "nbformat_minor": 2
}
