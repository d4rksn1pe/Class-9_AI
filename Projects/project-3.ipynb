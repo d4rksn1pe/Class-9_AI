{
 "cells": [
  {
   "cell_type": "code",
   "execution_count": 5,
   "id": "70ab5fd7-4b59-435e-b1ab-0e0c5aa4908f",
   "metadata": {},
   "outputs": [
    {
     "name": "stdout",
     "output_type": "stream",
     "text": [
      "Guess the animal\n"
     ]
    },
    {
     "name": "stdin",
     "output_type": "stream",
     "text": [
      "Which bear lives in the North Pole? Polar Bear\n"
     ]
    },
    {
     "name": "stdout",
     "output_type": "stream",
     "text": [
      "Correct Answer\n"
     ]
    },
    {
     "name": "stdin",
     "output_type": "stream",
     "text": [
      "Which is the fastest land animal? Cheetah\n"
     ]
    },
    {
     "name": "stdout",
     "output_type": "stream",
     "text": [
      "Correct Answer\n"
     ]
    },
    {
     "name": "stdin",
     "output_type": "stream",
     "text": [
      "Which is the largest animal? Blue Whale\n"
     ]
    },
    {
     "name": "stdout",
     "output_type": "stream",
     "text": [
      "Correct Answer\n",
      "Your score is 3\n"
     ]
    }
   ],
   "source": [
    "def check_guess(guess,answer):\n",
    "    global score\n",
    "    still_guessing = True\n",
    "    attempt= 0\n",
    "    while still_guessing and attempt < 3:\n",
    "        if guess.lower() == answer.lower():\n",
    "            print(\"Correct Answer\")\n",
    "            score = score + 1\n",
    "            still_guessing = False\n",
    "        else:\n",
    "            if attempt < 2:\n",
    "                guess = input(\"Sorry Wrong Answer, try again\")\n",
    "                attempt = attempt + 1\n",
    "            if attempt == 3:\n",
    "                print(\"The Correct Answer is\", answer)\n",
    "\n",
    "score = 0\n",
    "print(\"Guess the animal\")\n",
    "guess1 = input(\"Which bear lives in the North Pole?\")\n",
    "check_guess(guess1, \"Polar Bear\")\n",
    "guess2 = input(\"Which is the fastest land animal?\")\n",
    "check_guess(guess2, \"Cheetah\")\n",
    "guess3 = input(\"Which is the largest animal?\")\n",
    "check_guess(guess3, \"Blue Whale\")\n",
    "print(\"Your score is \" + str(score))"
   ]
  },
  {
   "cell_type": "code",
   "execution_count": null,
   "id": "58a11b2d",
   "metadata": {},
   "outputs": [],
   "source": []
  }
 ],
 "metadata": {
  "kernelspec": {
   "display_name": "Python 3 (ipykernel)",
   "language": "python",
   "name": "python3"
  },
  "language_info": {
   "codemirror_mode": {
    "name": "ipython",
    "version": 3
   },
   "file_extension": ".py",
   "mimetype": "text/x-python",
   "name": "python",
   "nbconvert_exporter": "python",
   "pygments_lexer": "ipython3",
   "version": "3.9.7"
  },
  "vscode": {
   "interpreter": {
    "hash": "c309a1962e443d6be192b93c74a054e54bdc96f4f77eba41e89ee87724c45720"
   }
  }
 },
 "nbformat": 4,
 "nbformat_minor": 5
}
