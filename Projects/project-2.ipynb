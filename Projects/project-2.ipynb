{
 "cells": [
  {
   "cell_type": "code",
   "execution_count": null,
   "id": "1fc9d4fb-5f26-433f-a69c-b46ca6816ef5",
   "metadata": {},
   "outputs": [
    {
     "name": "stdout",
     "output_type": "stream",
     "text": [
      "Rolling the dices...\n",
      "The values are:\n",
      "6\n",
      "3\n"
     ]
    },
    {
     "name": "stdin",
     "output_type": "stream",
     "text": [
      "Roll the Dices again y\n"
     ]
    },
    {
     "name": "stdout",
     "output_type": "stream",
     "text": [
      "Rolling the dices...\n",
      "The values are:\n",
      "3\n",
      "2\n"
     ]
    },
    {
     "name": "stdin",
     "output_type": "stream",
     "text": [
      "Roll the Dices again y\n"
     ]
    },
    {
     "name": "stdout",
     "output_type": "stream",
     "text": [
      "Rolling the dices...\n",
      "The values are:\n",
      "1\n",
      "5\n"
     ]
    }
   ],
   "source": [
    "import random\n",
    "min_val = 1\n",
    "max_val = 6\n",
    "roll_again = \"yes\"\n",
    "while roll_again == \"yes\" or roll_again == \"y\":\n",
    "    print(\"Rolling the dices...\")\n",
    "    print(\"The values are:\")\n",
    "    print(random.randint(min_val, max_val))\n",
    "    print(random.randint(min_val, max_val))\n",
    "    roll_again = input(\"Roll the Dices again\")"
   ]
  },
  {
   "cell_type": "code",
   "execution_count": null,
   "id": "74bd3dee",
   "metadata": {},
   "outputs": [],
   "source": []
  }
 ],
 "metadata": {
  "kernelspec": {
   "display_name": "Python 3 (ipykernel)",
   "language": "python",
   "name": "python3"
  },
  "language_info": {
   "codemirror_mode": {
    "name": "ipython",
    "version": 3
   },
   "file_extension": ".py",
   "mimetype": "text/x-python",
   "name": "python",
   "nbconvert_exporter": "python",
   "pygments_lexer": "ipython3",
   "version": "3.9.7"
  }
 },
 "nbformat": 4,
 "nbformat_minor": 5
}
