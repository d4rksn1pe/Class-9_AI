{
 "cells": [
  {
   "cell_type": "code",
   "execution_count": 3,
   "id": "9566c3e9-a1f2-4161-957e-2775b9d4c85c",
   "metadata": {},
   "outputs": [
    {
     "name": "stdout",
     "output_type": "stream",
     "text": [
      "Select operation.\n",
      "1-add\n",
      "2-subtract\n",
      "3-multiply\n",
      "4-divide\n",
      "5-remainder\n",
      "6-quit the program\n"
     ]
    },
    {
     "name": "stdin",
     "output_type": "stream",
     "text": [
      "Enter Choice :  2\n",
      "Enter First Number =  9\n",
      "Enter 2nd Number =  7\n"
     ]
    },
    {
     "name": "stdout",
     "output_type": "stream",
     "text": [
      "9 - 7 = 2\n",
      "Select operation.\n",
      "1-add\n",
      "2-subtract\n",
      "3-multiply\n",
      "4-divide\n",
      "5-remainder\n",
      "6-quit the program\n"
     ]
    },
    {
     "name": "stdin",
     "output_type": "stream",
     "text": [
      "Enter Choice :  6\n"
     ]
    }
   ],
   "source": [
    "def add(x,y):\n",
    "    return x + y;\n",
    "def subtract(x,y):\n",
    "    return x - y;\n",
    "def multiply(x,y):\n",
    "    return x * y;\n",
    "def divide(x,y):\n",
    "    return x / y;\n",
    "def power(x,y):\n",
    "    return x ** y;\n",
    "def remainder(x,y):\n",
    "    return x % y;\n",
    "\n",
    "while True:\n",
    "    print(\"Select operation.\")\n",
    "    print(\"1-add\")\n",
    "    print(\"2-subtract\")\n",
    "    print(\"3-multiply\")\n",
    "    print(\"4-divide\")\n",
    "    print(\"5-remainder\")\n",
    "    print(\"6-quit the program\")\n",
    "    \n",
    "    choice = input(\"Enter Choice : \")\n",
    "    if choice in ('1','2','3','4','5','6'):\n",
    "        if choice == '6':\n",
    "            break\n",
    "        num1 = int(input(\"Enter First Number = \"))\n",
    "        num2 = int(input(\"Enter 2nd Number = \"))\n",
    "    \n",
    "        if choice == '1':\n",
    "            print(num1, \"+\", num2, \"=\", add(num1,num2))\n",
    "        elif choice == '2':\n",
    "            print(num1, \"-\", num2, \"=\", subtract(num1,num2))\n",
    "        elif choice == '3':\n",
    "            print(num1, \"*\", num2, \"=\", multiply(num1,num2))\n",
    "        elif choice == '4':\n",
    "            print(num1, \"/\", num2, \"=\", divide(num1,num2))    \n",
    "        elif choice == '5':\n",
    "            print(num1, \"%\", num2, \"=\", remainder(num1,num2))"
   ]
  },
  {
   "cell_type": "code",
   "execution_count": null,
   "id": "dce98235-d03d-4e63-b271-2264129bd466",
   "metadata": {},
   "outputs": [],
   "source": []
  }
 ],
 "metadata": {
  "kernelspec": {
   "display_name": "Python 3 (ipykernel)",
   "language": "python",
   "name": "python3"
  },
  "language_info": {
   "codemirror_mode": {
    "name": "ipython",
    "version": 3
   },
   "file_extension": ".py",
   "mimetype": "text/x-python",
   "name": "python",
   "nbconvert_exporter": "python",
   "pygments_lexer": "ipython3",
   "version": "3.9.7"
  }
 },
 "nbformat": 4,
 "nbformat_minor": 5
}
