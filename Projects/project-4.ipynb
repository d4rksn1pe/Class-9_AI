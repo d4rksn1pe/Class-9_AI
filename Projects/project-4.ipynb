{
 "cells": [
  {
   "cell_type": "code",
   "execution_count": 1,
   "id": "60bf8b66-37af-457c-8220-54d4ab123176",
   "metadata": {},
   "outputs": [
    {
     "name": "stdout",
     "output_type": "stream",
     "text": [
      "Calculator Project\n",
      "Enter a for addition\n",
      "Enter s for subtraction\n",
      "Enter m for multiplication\n",
      "Enter v for average\n",
      "Enter q for quit\n"
     ]
    },
    {
     "name": "stdin",
     "output_type": "stream",
     "text": [
      " m\n"
     ]
    },
    {
     "name": "stdout",
     "output_type": "stream",
     "text": [
      "Calculator Project\n",
      "Enter a for addition\n",
      "Enter s for subtraction\n",
      "Enter m for multiplication\n",
      "Enter v for average\n",
      "Enter q for quit\n"
     ]
    },
    {
     "name": "stdin",
     "output_type": "stream",
     "text": [
      " m\n"
     ]
    },
    {
     "name": "stdout",
     "output_type": "stream",
     "text": [
      "Calculator Project\n",
      "Enter a for addition\n",
      "Enter s for subtraction\n",
      "Enter m for multiplication\n",
      "Enter v for average\n",
      "Enter q for quit\n"
     ]
    },
    {
     "name": "stdin",
     "output_type": "stream",
     "text": [
      " q\n"
     ]
    },
    {
     "ename": "TypeError",
     "evalue": "'NoneType' object is not subscriptable",
     "output_type": "error",
     "traceback": [
      "\u001b[1;31m---------------------------------------------------------------------------\u001b[0m",
      "\u001b[1;31mTypeError\u001b[0m                                 Traceback (most recent call last)",
      "\u001b[1;32mC:\\Users\\ICT_LA~1\\AppData\\Local\\Temp/ipykernel_11112/2276964295.py\u001b[0m in \u001b[0;36m<module>\u001b[1;34m\u001b[0m\n\u001b[0;32m     61\u001b[0m     \u001b[1;32melif\u001b[0m \u001b[0mc\u001b[0m \u001b[1;33m==\u001b[0m \u001b[1;34m'q'\u001b[0m\u001b[1;33m:\u001b[0m\u001b[1;33m\u001b[0m\u001b[1;33m\u001b[0m\u001b[0m\n\u001b[0;32m     62\u001b[0m         \u001b[0mlist\u001b[0m \u001b[1;33m=\u001b[0m \u001b[0mquit\u001b[0m\u001b[1;33m(\u001b[0m\u001b[1;33m)\u001b[0m\u001b[1;33m\u001b[0m\u001b[1;33m\u001b[0m\u001b[0m\n\u001b[1;32m---> 63\u001b[1;33m         \u001b[0mprint\u001b[0m\u001b[1;33m(\u001b[0m\u001b[1;34m\"Ans = \"\u001b[0m\u001b[1;33m,\u001b[0m \u001b[0mlist\u001b[0m\u001b[1;33m[\u001b[0m\u001b[1;36m0\u001b[0m\u001b[1;33m]\u001b[0m\u001b[1;33m,\u001b[0m \u001b[1;34m\"total inputs\"\u001b[0m\u001b[1;33m,\u001b[0m \u001b[0mlist\u001b[0m\u001b[1;33m[\u001b[0m\u001b[1;36m1\u001b[0m\u001b[1;33m]\u001b[0m\u001b[1;33m)\u001b[0m\u001b[1;33m\u001b[0m\u001b[1;33m\u001b[0m\u001b[0m\n\u001b[0m\u001b[0;32m     64\u001b[0m     \u001b[1;32melse\u001b[0m\u001b[1;33m:\u001b[0m\u001b[1;33m\u001b[0m\u001b[1;33m\u001b[0m\u001b[0m\n\u001b[0;32m     65\u001b[0m         \u001b[0mprint\u001b[0m\u001b[1;33m(\u001b[0m\u001b[1;34m\"Sorry, the character is invalid\"\u001b[0m\u001b[1;33m)\u001b[0m\u001b[1;33m\u001b[0m\u001b[1;33m\u001b[0m\u001b[0m\n",
      "\u001b[1;31mTypeError\u001b[0m: 'NoneType' object is not subscriptable"
     ]
    }
   ],
   "source": [
    "def addition ():\n",
    "    print(\"addition\")\n",
    "    n = float(input(\"Enter the number:\"))\n",
    "    t = 0\n",
    "    ans = 0\n",
    "    while n != 0:\n",
    "        ans = ans + n\n",
    "        t+=1\n",
    "        n = float(input(\"Enter another number(0 to calculate):\"))\n",
    "    return[ans,t]\n",
    "def subtraction ():\n",
    "    print(\"Subtraction\");\n",
    "    n = float(input(\"Enter the number:\"))\n",
    "    t = 0\n",
    "    ans = 0\n",
    "    while n!=0:\n",
    "        ans = ans - n\n",
    "        t+=1\n",
    "        n = float(input(\"Enter another number(0 to calculate):\"))\n",
    "    return [ans,t]\n",
    "def multiplication ():\n",
    "    print(\"Multiplication\")\n",
    "    n = float(input(\"Enter the number:\"))\n",
    "    t = 0\n",
    "    ans = 1\n",
    "    while n!=0:\n",
    "        ans = ans*n\n",
    "        t+=1\n",
    "        n = float(input(\"Enter another number(0 to calculate):\"))\n",
    "        return[ans,t]\n",
    "def average():\n",
    "    an = []\n",
    "    an = addition()\n",
    "    t = an[1]\n",
    "    a = an[0]\n",
    "    ans = a/t\n",
    "    return [ans,t]\n",
    "\n",
    "while True:\n",
    "    list = []\n",
    "    print(\"Calculator Project\")\n",
    "    print(\"Enter a for addition\")\n",
    "    print(\"Enter s for subtraction\")\n",
    "    print(\"Enter m for multiplication\")\n",
    "    print(\"Enter v for average\")\n",
    "    print(\"Enter q for quit\")\n",
    "    c = input(\"\")\n",
    "    if c!= 'q':\n",
    "        if c == 'a':\n",
    "            list = addition()\n",
    "            print(\"Ans = \", list[0], \"total inputs\", list[1])\n",
    "    elif c == 's':\n",
    "        list = subtraction()\n",
    "        print(\"Ans = \", list[0], \"total inputs\", list[1])\n",
    "    elif c == 'm':\n",
    "        list = multiplication()\n",
    "        print(\"Ans = \", list[0], \"total inputs\", list[1])\n",
    "    elif c == 'v':\n",
    "        list = average()\n",
    "        print(\"Ans = \", list[0], \"total inputs\", list[1])\n",
    "    elif c == 'q':\n",
    "        list = quit()\n",
    "        print(\"Ans = \", list[0], \"total inputs\", list[1])\n",
    "    else:\n",
    "        print(\"Sorry, the character is invalid\")"
   ]
  },
  {
   "cell_type": "code",
   "execution_count": null,
   "id": "371c9440-48e6-444e-918d-d7f534fbb804",
   "metadata": {},
   "outputs": [],
   "source": []
  },
  {
   "cell_type": "code",
   "execution_count": null,
   "id": "6edbbb29-c476-4728-9019-34b95af1729d",
   "metadata": {},
   "outputs": [],
   "source": []
  }
 ],
 "metadata": {
  "kernelspec": {
   "display_name": "Python 3 (ipykernel)",
   "language": "python",
   "name": "python3"
  },
  "language_info": {
   "codemirror_mode": {
    "name": "ipython",
    "version": 3
   },
   "file_extension": ".py",
   "mimetype": "text/x-python",
   "name": "python",
   "nbconvert_exporter": "python",
   "pygments_lexer": "ipython3",
   "version": "3.9.7"
  },
  "vscode": {
   "interpreter": {
    "hash": "e0c85ff85050ddc6fb0394893d40b8db58973efca6349794436a0111ba7520d5"
   }
  }
 },
 "nbformat": 4,
 "nbformat_minor": 5
}
